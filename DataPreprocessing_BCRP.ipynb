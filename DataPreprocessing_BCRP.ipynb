{
 "cells": [
  {
   "cell_type": "markdown",
   "id": "fe2d3c15",
   "metadata": {},
   "source": [
    "#### Data Pre-Processing Objectives\n",
    "\n",
    "Data pre-processing is a crucial step to prepare your data in the best possible format for the machine learning algorithm you intend to use. This includes assigning numerical values to categorical data, handling missing data and normalizing the features (so features on small scales do not dominate when fitting a model to the data)\n",
    "\n",
    "The goal here is to identify features of interest and use feature extraction and transformation for dimensionality reduction. This can also be phrased by saying; Find the most predictive features of the data and filter it so it will enhance the predictive power of the analytics model."
   ]
  },
  {
   "cell_type": "code",
   "execution_count": 1,
   "id": "1a627036",
   "metadata": {},
   "outputs": [
    {
     "data": {
      "text/html": [
       "<div>\n",
       "<style scoped>\n",
       "    .dataframe tbody tr th:only-of-type {\n",
       "        vertical-align: middle;\n",
       "    }\n",
       "\n",
       "    .dataframe tbody tr th {\n",
       "        vertical-align: top;\n",
       "    }\n",
       "\n",
       "    .dataframe thead th {\n",
       "        text-align: right;\n",
       "    }\n",
       "</style>\n",
       "<table border=\"1\" class=\"dataframe\">\n",
       "  <thead>\n",
       "    <tr style=\"text-align: right;\">\n",
       "      <th></th>\n",
       "      <th>diagnosis</th>\n",
       "      <th>radius_mean</th>\n",
       "      <th>texture_mean</th>\n",
       "      <th>perimeter_mean</th>\n",
       "      <th>area_mean</th>\n",
       "      <th>smoothness_mean</th>\n",
       "      <th>compactness_mean</th>\n",
       "      <th>concavity_mean</th>\n",
       "      <th>concave points_mean</th>\n",
       "      <th>symmetry_mean</th>\n",
       "      <th>...</th>\n",
       "      <th>radius_worst</th>\n",
       "      <th>texture_worst</th>\n",
       "      <th>perimeter_worst</th>\n",
       "      <th>area_worst</th>\n",
       "      <th>smoothness_worst</th>\n",
       "      <th>compactness_worst</th>\n",
       "      <th>concavity_worst</th>\n",
       "      <th>concave points_worst</th>\n",
       "      <th>symmetry_worst</th>\n",
       "      <th>fractal_dimension_worst</th>\n",
       "    </tr>\n",
       "  </thead>\n",
       "  <tbody>\n",
       "    <tr>\n",
       "      <th>0</th>\n",
       "      <td>M</td>\n",
       "      <td>17.99</td>\n",
       "      <td>10.38</td>\n",
       "      <td>122.80</td>\n",
       "      <td>1001.0</td>\n",
       "      <td>0.11840</td>\n",
       "      <td>0.27760</td>\n",
       "      <td>0.3001</td>\n",
       "      <td>0.14710</td>\n",
       "      <td>0.2419</td>\n",
       "      <td>...</td>\n",
       "      <td>25.38</td>\n",
       "      <td>17.33</td>\n",
       "      <td>184.60</td>\n",
       "      <td>2019.0</td>\n",
       "      <td>0.1622</td>\n",
       "      <td>0.6656</td>\n",
       "      <td>0.7119</td>\n",
       "      <td>0.2654</td>\n",
       "      <td>0.4601</td>\n",
       "      <td>0.11890</td>\n",
       "    </tr>\n",
       "    <tr>\n",
       "      <th>1</th>\n",
       "      <td>M</td>\n",
       "      <td>20.57</td>\n",
       "      <td>17.77</td>\n",
       "      <td>132.90</td>\n",
       "      <td>1326.0</td>\n",
       "      <td>0.08474</td>\n",
       "      <td>0.07864</td>\n",
       "      <td>0.0869</td>\n",
       "      <td>0.07017</td>\n",
       "      <td>0.1812</td>\n",
       "      <td>...</td>\n",
       "      <td>24.99</td>\n",
       "      <td>23.41</td>\n",
       "      <td>158.80</td>\n",
       "      <td>1956.0</td>\n",
       "      <td>0.1238</td>\n",
       "      <td>0.1866</td>\n",
       "      <td>0.2416</td>\n",
       "      <td>0.1860</td>\n",
       "      <td>0.2750</td>\n",
       "      <td>0.08902</td>\n",
       "    </tr>\n",
       "    <tr>\n",
       "      <th>2</th>\n",
       "      <td>M</td>\n",
       "      <td>19.69</td>\n",
       "      <td>21.25</td>\n",
       "      <td>130.00</td>\n",
       "      <td>1203.0</td>\n",
       "      <td>0.10960</td>\n",
       "      <td>0.15990</td>\n",
       "      <td>0.1974</td>\n",
       "      <td>0.12790</td>\n",
       "      <td>0.2069</td>\n",
       "      <td>...</td>\n",
       "      <td>23.57</td>\n",
       "      <td>25.53</td>\n",
       "      <td>152.50</td>\n",
       "      <td>1709.0</td>\n",
       "      <td>0.1444</td>\n",
       "      <td>0.4245</td>\n",
       "      <td>0.4504</td>\n",
       "      <td>0.2430</td>\n",
       "      <td>0.3613</td>\n",
       "      <td>0.08758</td>\n",
       "    </tr>\n",
       "    <tr>\n",
       "      <th>3</th>\n",
       "      <td>M</td>\n",
       "      <td>11.42</td>\n",
       "      <td>20.38</td>\n",
       "      <td>77.58</td>\n",
       "      <td>386.1</td>\n",
       "      <td>0.14250</td>\n",
       "      <td>0.28390</td>\n",
       "      <td>0.2414</td>\n",
       "      <td>0.10520</td>\n",
       "      <td>0.2597</td>\n",
       "      <td>...</td>\n",
       "      <td>14.91</td>\n",
       "      <td>26.50</td>\n",
       "      <td>98.87</td>\n",
       "      <td>567.7</td>\n",
       "      <td>0.2098</td>\n",
       "      <td>0.8663</td>\n",
       "      <td>0.6869</td>\n",
       "      <td>0.2575</td>\n",
       "      <td>0.6638</td>\n",
       "      <td>0.17300</td>\n",
       "    </tr>\n",
       "    <tr>\n",
       "      <th>4</th>\n",
       "      <td>M</td>\n",
       "      <td>20.29</td>\n",
       "      <td>14.34</td>\n",
       "      <td>135.10</td>\n",
       "      <td>1297.0</td>\n",
       "      <td>0.10030</td>\n",
       "      <td>0.13280</td>\n",
       "      <td>0.1980</td>\n",
       "      <td>0.10430</td>\n",
       "      <td>0.1809</td>\n",
       "      <td>...</td>\n",
       "      <td>22.54</td>\n",
       "      <td>16.67</td>\n",
       "      <td>152.20</td>\n",
       "      <td>1575.0</td>\n",
       "      <td>0.1374</td>\n",
       "      <td>0.2050</td>\n",
       "      <td>0.4000</td>\n",
       "      <td>0.1625</td>\n",
       "      <td>0.2364</td>\n",
       "      <td>0.07678</td>\n",
       "    </tr>\n",
       "  </tbody>\n",
       "</table>\n",
       "<p>5 rows × 31 columns</p>\n",
       "</div>"
      ],
      "text/plain": [
       "  diagnosis  radius_mean  texture_mean  perimeter_mean  area_mean  \\\n",
       "0         M        17.99         10.38          122.80     1001.0   \n",
       "1         M        20.57         17.77          132.90     1326.0   \n",
       "2         M        19.69         21.25          130.00     1203.0   \n",
       "3         M        11.42         20.38           77.58      386.1   \n",
       "4         M        20.29         14.34          135.10     1297.0   \n",
       "\n",
       "   smoothness_mean  compactness_mean  concavity_mean  concave points_mean  \\\n",
       "0          0.11840           0.27760          0.3001              0.14710   \n",
       "1          0.08474           0.07864          0.0869              0.07017   \n",
       "2          0.10960           0.15990          0.1974              0.12790   \n",
       "3          0.14250           0.28390          0.2414              0.10520   \n",
       "4          0.10030           0.13280          0.1980              0.10430   \n",
       "\n",
       "   symmetry_mean  ...  radius_worst  texture_worst  perimeter_worst  \\\n",
       "0         0.2419  ...         25.38          17.33           184.60   \n",
       "1         0.1812  ...         24.99          23.41           158.80   \n",
       "2         0.2069  ...         23.57          25.53           152.50   \n",
       "3         0.2597  ...         14.91          26.50            98.87   \n",
       "4         0.1809  ...         22.54          16.67           152.20   \n",
       "\n",
       "   area_worst  smoothness_worst  compactness_worst  concavity_worst  \\\n",
       "0      2019.0            0.1622             0.6656           0.7119   \n",
       "1      1956.0            0.1238             0.1866           0.2416   \n",
       "2      1709.0            0.1444             0.4245           0.4504   \n",
       "3       567.7            0.2098             0.8663           0.6869   \n",
       "4      1575.0            0.1374             0.2050           0.4000   \n",
       "\n",
       "   concave points_worst  symmetry_worst  fractal_dimension_worst  \n",
       "0                0.2654          0.4601                  0.11890  \n",
       "1                0.1860          0.2750                  0.08902  \n",
       "2                0.2430          0.3613                  0.08758  \n",
       "3                0.2575          0.6638                  0.17300  \n",
       "4                0.1625          0.2364                  0.07678  \n",
       "\n",
       "[5 rows x 31 columns]"
      ]
     },
     "execution_count": 1,
     "metadata": {},
     "output_type": "execute_result"
    }
   ],
   "source": [
    "## Load libraries for data processing\n",
    "%matplotlib inline\n",
    "import matplotlib.pyplot as plt\n",
    "\n",
    "import pandas as pd\n",
    "import numpy as np\n",
    "from scipy.stats import norm\n",
    "\n",
    "## Visualization tools\n",
    "import seaborn as sns \n",
    "plt.style.use('fivethirtyeight')\n",
    "sns.set_style(\"white\")\n",
    "\n",
    "plt.rcParams['figure.figsize'] = (8,4) \n",
    "plt.rcParams['axes.titlesize'] = 'large'  ## Large titles for each plot\n",
    "\n",
    "data = pd.read_csv('cleaned_data.csv', index_col=False)\n",
    "data.drop('Unnamed: 0',axis=1, inplace=True)\n",
    "data.head()"
   ]
  },
  {
   "cell_type": "markdown",
   "id": "a2cd4625",
   "metadata": {},
   "source": [
    "#### Label Encoding\n",
    "    Assigning the 30 features to a NumPy array X, and transforming the class labes from their original string representation (M and B) into integers "
   ]
  },
  {
   "cell_type": "code",
   "execution_count": 2,
   "id": "6d75a7a9",
   "metadata": {},
   "outputs": [],
   "source": [
    "## Assign predictors to a variable of ndarray (matrix) type\n",
    "array = data.values\n",
    "X = array[:,1:31]\n",
    "y = array[:,0]"
   ]
  },
  {
   "cell_type": "code",
   "execution_count": 3,
   "id": "01b67534",
   "metadata": {},
   "outputs": [
    {
     "data": {
      "text/plain": [
       "array([1, 0])"
      ]
     },
     "execution_count": 3,
     "metadata": {},
     "output_type": "execute_result"
    }
   ],
   "source": [
    "## Transform the class labels from their original string representation (M and B) into integers\n",
    "from sklearn.preprocessing import LabelEncoder\n",
    "le = LabelEncoder()\n",
    "y = le.fit_transform(y)\n",
    "\n",
    "## Call the transform method of LabelEncorder on two dummy variables\n",
    "le.transform (['M', 'B'])"
   ]
  },
  {
   "cell_type": "markdown",
   "id": "d6678c5a",
   "metadata": {},
   "source": [
    "###### Note: \n",
    "After encoding the class labels(diagnosis) in an array y, the malignant tumors are now represented as class 1(i.e prescence of cancer cells) and the benign tumors are represented as class 0 (i.e no cancer cells detection), respectively, illustrated by calling the transform method of LabelEncorder on two dummy variables."
   ]
  },
  {
   "cell_type": "code",
   "execution_count": 4,
   "id": "eab66f9b",
   "metadata": {},
   "outputs": [
    {
     "data": {
      "text/plain": [
       "((426, 30), (426,), (143, 30), (143,))"
      ]
     },
     "execution_count": 4,
     "metadata": {},
     "output_type": "execute_result"
    }
   ],
   "source": [
    "from sklearn.model_selection import train_test_split\n",
    "\n",
    "## Split data set into train 70% and test 30%\n",
    "X_train, X_test, y_train, y_test = train_test_split( X, y, test_size=0.25, random_state=7)\n",
    "X_train.shape, y_train.shape, X_test.shape, y_test.shape"
   ]
  },
  {
   "cell_type": "markdown",
   "id": "e16bb094",
   "metadata": {},
   "source": [
    "##### Feature Standardization\n",
    "    Standardization is a useful technique to transform attributes with a Gaussian distribution and differing means and standard deviations to a standard Gaussian distribution with a mean of 0 and a standard deviation of 1.\n",
    "    The raw data has differing distributions which can have an impact of most ML algorithms. Most ML and optimization algorithms behave much better if features are on the same scale."
   ]
  },
  {
   "cell_type": "code",
   "execution_count": 5,
   "id": "511e16bf",
   "metadata": {},
   "outputs": [],
   "source": [
    "from sklearn.preprocessing import StandardScaler\n",
    "\n",
    "## Normalize the  data (center around 0 and scale to remove the variance).\n",
    "scaler = StandardScaler()\n",
    "Xs = scaler.fit_transform(X)"
   ]
  },
  {
   "cell_type": "markdown",
   "id": "dbe5344b",
   "metadata": {},
   "source": [
    "#### Principal Component Analysis (PCA)\n",
    "    The pair plots within the EDA notebook divided the data nicely to a similar extent. It makes sense to use one of the dimensionality reduction methods to try to use as many features as possible and maintain as much information as possible when working with only 2 dimensions."
   ]
  },
  {
   "cell_type": "code",
   "execution_count": 8,
   "id": "944be132",
   "metadata": {},
   "outputs": [
    {
     "name": "stdout",
     "output_type": "stream",
     "text": [
      "[0.44272026 0.18971182 0.09393163 0.06602135 0.05495768 0.04024522\n",
      " 0.02250734 0.01588724 0.01389649 0.01168978]\n",
      "[[ 2.18902444e-01  1.03724578e-01  2.27537293e-01  2.20994985e-01\n",
      "   1.42589694e-01  2.39285354e-01  2.58400481e-01  2.60853758e-01\n",
      "   1.38166959e-01  6.43633464e-02  2.05978776e-01  1.74280281e-02\n",
      "   2.11325916e-01  2.02869635e-01  1.45314521e-02  1.70393451e-01\n",
      "   1.53589790e-01  1.83417397e-01  4.24984216e-02  1.02568322e-01\n",
      "   2.27996634e-01  1.04469325e-01  2.36639681e-01  2.24870533e-01\n",
      "   1.27952561e-01  2.10095880e-01  2.28767533e-01  2.50885971e-01\n",
      "   1.22904556e-01  1.31783943e-01]\n",
      " [-2.33857132e-01 -5.97060883e-02 -2.15181361e-01 -2.31076711e-01\n",
      "   1.86113023e-01  1.51891610e-01  6.01653628e-02 -3.47675005e-02\n",
      "   1.90348770e-01  3.66575471e-01 -1.05552152e-01  8.99796818e-02\n",
      "  -8.94572342e-02 -1.52292628e-01  2.04430453e-01  2.32715896e-01\n",
      "   1.97207283e-01  1.30321560e-01  1.83848000e-01  2.80092027e-01\n",
      "  -2.19866379e-01 -4.54672983e-02 -1.99878428e-01 -2.19351858e-01\n",
      "   1.72304352e-01  1.43593173e-01  9.79641143e-02 -8.25723507e-03\n",
      "   1.41883349e-01  2.75339469e-01]\n",
      " [-8.53124282e-03  6.45499033e-02 -9.31421969e-03  2.86995259e-02\n",
      "  -1.04291904e-01 -7.40915710e-02  2.73383810e-03 -2.55635405e-02\n",
      "  -4.02399363e-02 -2.25740897e-02  2.68481387e-01  3.74633665e-01\n",
      "   2.66645367e-01  2.16006528e-01  3.08838979e-01  1.54779718e-01\n",
      "   1.76463743e-01  2.24657567e-01  2.88584292e-01  2.11503764e-01\n",
      "  -4.75069900e-02 -4.22978227e-02 -4.85465083e-02 -1.19023182e-02\n",
      "  -2.59797613e-01 -2.36075625e-01 -1.73057335e-01 -1.70344076e-01\n",
      "  -2.71312642e-01 -2.32791312e-01]\n",
      " [ 4.14089622e-02 -6.03050001e-01  4.19830991e-02  5.34337955e-02\n",
      "   1.59382765e-01  3.17945813e-02  1.91227535e-02  6.53359441e-02\n",
      "   6.71249840e-02  4.85867649e-02  9.79412415e-02 -3.59855528e-01\n",
      "   8.89924146e-02  1.08205039e-01  4.46641797e-02 -2.74693634e-02\n",
      "   1.31687975e-03  7.40673351e-02  4.40733510e-02  1.53047498e-02\n",
      "   1.54172395e-02 -6.32807885e-01  1.38027944e-02  2.58947493e-02\n",
      "   1.76522160e-02 -9.13284152e-02 -7.39511794e-02  6.00699574e-03\n",
      "  -3.62506947e-02 -7.70534706e-02]\n",
      " [ 3.77863540e-02 -4.94688506e-02  3.73746633e-02  1.03312513e-02\n",
      "  -3.65088528e-01  1.17039713e-02  8.63754115e-02 -4.38610250e-02\n",
      "  -3.05941428e-01 -4.44243602e-02 -1.54456495e-01 -1.91650506e-01\n",
      "  -1.20990221e-01 -1.27574432e-01 -2.32065676e-01  2.79968156e-01\n",
      "   3.53982091e-01  1.95548088e-01 -2.52868765e-01  2.63297437e-01\n",
      "  -4.40659187e-03 -9.28834000e-02  7.45415084e-03 -2.73909033e-02\n",
      "  -3.24435445e-01  1.21804107e-01  1.88518726e-01  4.33320691e-02\n",
      "  -2.44558663e-01  9.44233513e-02]\n",
      " [ 1.87407910e-02 -3.21788367e-02  1.73084453e-02 -1.88774798e-03\n",
      "  -2.86374497e-01 -1.41309504e-02 -9.34418050e-03 -5.20499485e-02\n",
      "   3.56458461e-01 -1.19430668e-01 -2.56032549e-02 -2.87473147e-02\n",
      "   1.81071645e-03 -4.28639105e-02 -3.42917394e-01  6.91975204e-02\n",
      "   5.63432398e-02 -3.12244487e-02  4.90245642e-01 -5.31952694e-02\n",
      "  -2.90684497e-04 -5.00080611e-02  8.50098740e-03 -2.51643832e-02\n",
      "  -3.69255370e-01  4.77057917e-02  2.83792536e-02 -3.08734508e-02\n",
      "   4.98926784e-01 -8.02235221e-02]\n",
      " [-1.24088371e-01  1.13994455e-02 -1.14477060e-01 -5.16533991e-02\n",
      "  -1.40668951e-01  3.09184458e-02 -1.07520331e-01 -1.50482233e-01\n",
      "  -9.38911405e-02  2.95760017e-01  3.12489851e-01 -9.07554010e-02\n",
      "   3.14640551e-01  3.46679009e-01 -2.44024050e-01  2.34635636e-02\n",
      "  -2.08823943e-01 -3.69645827e-01 -8.03822629e-02  1.91395005e-01\n",
      "  -9.70998729e-03  9.87086645e-03 -4.45666983e-04  6.78316997e-02\n",
      "  -1.08830913e-01  1.40472856e-01 -6.04879225e-02 -1.67966801e-01\n",
      "  -1.84906006e-02  3.74657633e-01]\n",
      " [-7.45252503e-03  1.30674604e-01 -1.86873609e-02  3.46737056e-02\n",
      "  -2.88974391e-01 -1.51396224e-01 -7.28270135e-02 -1.52322840e-01\n",
      "  -2.31531013e-01 -1.77121430e-01  2.25390729e-02 -4.75413223e-01\n",
      "  -1.18964073e-02  8.58056641e-02  5.73410304e-01  1.17459878e-01\n",
      "   6.05658183e-02 -1.08318874e-01  2.20149271e-01  1.11686757e-02\n",
      "   4.26191520e-02  3.62519325e-02  3.05587021e-02  7.93946127e-02\n",
      "   2.05851992e-01  8.40196549e-02  7.24686048e-02 -3.61711427e-02\n",
      "   2.28225153e-01  4.83602228e-02]\n",
      " [-2.23109792e-01  1.12699421e-01 -2.23739217e-01 -1.95585986e-01\n",
      "   6.42473985e-03 -1.67841489e-01  4.05911156e-02 -1.11971110e-01\n",
      "   2.56040055e-01 -1.23740788e-01  2.49984848e-01 -2.46645388e-01\n",
      "   2.27154165e-01  2.29160010e-01 -1.41924907e-01 -1.45322733e-01\n",
      "   3.58106928e-01  2.72519984e-01 -3.04077248e-01 -2.13722706e-01\n",
      "  -1.12141506e-01  1.03341166e-01 -1.09614316e-01 -8.07324181e-02\n",
      "   1.12315926e-01 -1.00677937e-01  1.61908751e-01  6.04882873e-02\n",
      "   6.46378890e-02 -1.34174162e-01]\n",
      " [ 9.54867617e-02  2.40933902e-01  8.63858414e-02  7.49565223e-02\n",
      "  -6.92928066e-02  1.29354260e-02 -1.35601999e-01  8.05537171e-03\n",
      "   5.72069467e-01  8.11032188e-02 -4.95468774e-02 -2.89142881e-01\n",
      "  -1.14507734e-01 -9.19290666e-02  1.60884461e-01  4.35057404e-02\n",
      "  -1.41275960e-01  8.62407829e-02 -3.16529916e-01  3.67541073e-01\n",
      "   7.73618500e-02  2.95511475e-02  5.05083443e-02  6.99206237e-02\n",
      "  -1.28304361e-01 -1.72134170e-01 -3.11639095e-01 -7.66490303e-02\n",
      "  -2.95630247e-02  1.26105490e-02]]\n"
     ]
    }
   ],
   "source": [
    "from sklearn.decomposition import PCA\n",
    "## Feature Extraction\n",
    "pca = PCA(n_components=10)\n",
    "fit = pca.fit(Xs)\n",
    "\n",
    "## Summarize Components\n",
    "print(fit.explained_variance_ratio_)\n",
    "print(fit.components_)"
   ]
  },
  {
   "cell_type": "code",
   "execution_count": 9,
   "id": "0cb2b67d",
   "metadata": {},
   "outputs": [
    {
     "data": {
      "image/png": "[encoded data removed]",
      "text/plain": [
       "<Figure size 576x288 with 1 Axes>"
      ]
     },
     "metadata": {},
     "output_type": "display_data"
    }
   ],
   "source": [
    "X_pca = pca.transform(Xs)\n",
    "\n",
    "PCA_df = pd.DataFrame()\n",
    "\n",
    "PCA_df['PCA_1'] = X_pca[:,0]\n",
    "PCA_df['PCA_2'] = X_pca[:,1]\n",
    "\n",
    "plt.plot(PCA_df['PCA_1'][data.diagnosis == 'M'],PCA_df['PCA_2'][data.diagnosis == 'M'],'o', alpha = 0.7, color = 'r')\n",
    "plt.plot(PCA_df['PCA_1'][data.diagnosis == 'B'],PCA_df['PCA_2'][data.diagnosis == 'B'],'o', alpha = 0.7, color = 'b')\n",
    "\n",
    "plt.xlabel('PCA_1')\n",
    "plt.ylabel('PCA_2')\n",
    "plt.legend(['Malignant','Benign'])\n",
    "plt.show()"
   ]
  },
  {
   "cell_type": "code",
   "execution_count": 10,
   "id": "e8ef4d22",
   "metadata": {},
   "outputs": [
    {
     "name": "stdout",
     "output_type": "stream",
     "text": [
      "[44.27 63.24 72.63 79.23 84.73 88.75 91.   92.59 93.98 95.15]\n"
     ]
    }
   ],
   "source": [
    "## The amount of variance that each PC explains\n",
    "var= pca.explained_variance_ratio_\n",
    "\n",
    "## Cumulative Variance explains\n",
    "var1=np.cumsum(np.round(pca.explained_variance_ratio_, decimals=4)*100)\n",
    "print(var1)"
   ]
  },
  {
   "cell_type": "code",
   "execution_count": 12,
   "id": "3a522a23",
   "metadata": {},
   "outputs": [
    {
     "data": {
      "image/png": "[encoded data removed]",
      "text/plain": [
       "<Figure size 576x288 with 1 Axes>"
      ]
     },
     "metadata": {},
     "output_type": "display_data"
    }
   ],
   "source": [
    "plt.plot(var)\n",
    "plt.title('Scree Plot')\n",
    "plt.xlabel('Principal Component')\n",
    "plt.ylabel('Eigenvalue')\n",
    "\n",
    "leg = plt.legend(['Eigenvalues from PCA'], loc='best', borderpad=0.3,shadow=False,markerscale=0.4)\n",
    "leg.get_frame().set_alpha(0.4)\n",
    "plt.show()"
   ]
  },
  {
   "cell_type": "markdown",
   "id": "d8858f68",
   "metadata": {},
   "source": [
    "#### Observation\n",
    "    The most obvious change in slope in the scree plot occurs at component 2, which is the “elbow” of the scree plot. Therefore, it cound be argued based on the basis of the scree plot that the first three components should be retained."
   ]
  },
  {
   "cell_type": "code",
   "execution_count": null,
   "id": "382b6577",
   "metadata": {},
   "outputs": [],
   "source": []
  }
 ],
 "metadata": {
  "kernelspec": {
   "display_name": "Python 3 (ipykernel)",
   "language": "python",
   "name": "python3"
  },
  "language_info": {
   "codemirror_mode": {
    "name": "ipython",
    "version": 3
   },
   "file_extension": ".py",
   "mimetype": "text/x-python",
   "name": "python",
   "nbconvert_exporter": "python",
   "pygments_lexer": "ipython3",
   "version": "3.9.12"
  }
 },
 "nbformat": 4,
 "nbformat_minor": 5
}
